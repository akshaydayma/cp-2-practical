{
  "cells": [
    {
      "cell_type": "markdown",
      "metadata": {
        "id": "view-in-github",
        "colab_type": "text"
      },
      "source": [
        "<a href=\"https://colab.research.google.com/github/akshaydayma/cp-2-practical/blob/main/NeenOpal_task1.ipynb\" target=\"_parent\"><img src=\"https://colab.research.google.com/assets/colab-badge.svg\" alt=\"Open In Colab\"/></a>"
      ]
    },
    {
      "cell_type": "code",
      "execution_count": null,
      "id": "249a0c24",
      "metadata": {
        "id": "249a0c24"
      },
      "outputs": [],
      "source": [
        "#Required libraries\n",
        "import pandas as pd"
      ]
    },
    {
      "cell_type": "code",
      "execution_count": null,
      "id": "a783af0b",
      "metadata": {
        "id": "a783af0b"
      },
      "outputs": [],
      "source": [
        "#import dataset 1\n",
        "df1 = pd.read_csv('Book1.csv')\n",
        "\n"
      ]
    },
    {
      "cell_type": "code",
      "execution_count": null,
      "id": "2c95d392",
      "metadata": {
        "id": "2c95d392",
        "outputId": "cb43fa1f-7b10-45dd-f76b-370c35c233ce"
      },
      "outputs": [
        {
          "data": {
            "text/html": [
              "<div>\n",
              "<style scoped>\n",
              "    .dataframe tbody tr th:only-of-type {\n",
              "        vertical-align: middle;\n",
              "    }\n",
              "\n",
              "    .dataframe tbody tr th {\n",
              "        vertical-align: top;\n",
              "    }\n",
              "\n",
              "    .dataframe thead th {\n",
              "        text-align: right;\n",
              "    }\n",
              "</style>\n",
              "<table border=\"1\" class=\"dataframe\">\n",
              "  <thead>\n",
              "    <tr style=\"text-align: right;\">\n",
              "      <th></th>\n",
              "      <th>Order ID</th>\n",
              "      <th>Product ID</th>\n",
              "      <th>Qty</th>\n",
              "    </tr>\n",
              "  </thead>\n",
              "  <tbody>\n",
              "    <tr>\n",
              "      <th>0</th>\n",
              "      <td>CA-2014-100006</td>\n",
              "      <td>TEC-PH-10002075</td>\n",
              "      <td>3</td>\n",
              "    </tr>\n",
              "    <tr>\n",
              "      <th>1</th>\n",
              "      <td>CA-2014-100090</td>\n",
              "      <td>FUR-TA-10003715</td>\n",
              "      <td>3</td>\n",
              "    </tr>\n",
              "    <tr>\n",
              "      <th>2</th>\n",
              "      <td>CA-2014-100090</td>\n",
              "      <td>OFF-BI-10001597</td>\n",
              "      <td>6</td>\n",
              "    </tr>\n",
              "    <tr>\n",
              "      <th>3</th>\n",
              "      <td>CA-2014-100293</td>\n",
              "      <td>OFF-PA-10000176</td>\n",
              "      <td>6</td>\n",
              "    </tr>\n",
              "    <tr>\n",
              "      <th>4</th>\n",
              "      <td>CA-2014-100328</td>\n",
              "      <td>OFF-BI-10000343</td>\n",
              "      <td>1</td>\n",
              "    </tr>\n",
              "  </tbody>\n",
              "</table>\n",
              "</div>"
            ],
            "text/plain": [
              "         Order ID       Product ID  Qty\n",
              "0  CA-2014-100006  TEC-PH-10002075    3\n",
              "1  CA-2014-100090  FUR-TA-10003715    3\n",
              "2  CA-2014-100090  OFF-BI-10001597    6\n",
              "3  CA-2014-100293  OFF-PA-10000176    6\n",
              "4  CA-2014-100328  OFF-BI-10000343    1"
            ]
          },
          "execution_count": 48,
          "metadata": {},
          "output_type": "execute_result"
        }
      ],
      "source": [
        "df1.head()   #Print few top records in dataset1"
      ]
    },
    {
      "cell_type": "code",
      "execution_count": null,
      "id": "ce7ebb9a",
      "metadata": {
        "scrolled": true,
        "id": "ce7ebb9a"
      },
      "outputs": [],
      "source": [
        "# Import dataset 2\n",
        "df2 = pd.read_csv(\"Book2.csv\") "
      ]
    },
    {
      "cell_type": "code",
      "execution_count": null,
      "id": "3a67b6a3",
      "metadata": {
        "id": "3a67b6a3",
        "outputId": "842b256b-de25-4967-ea87-a26c2e712630"
      },
      "outputs": [
        {
          "data": {
            "text/html": [
              "<div>\n",
              "<style scoped>\n",
              "    .dataframe tbody tr th:only-of-type {\n",
              "        vertical-align: middle;\n",
              "    }\n",
              "\n",
              "    .dataframe tbody tr th {\n",
              "        vertical-align: top;\n",
              "    }\n",
              "\n",
              "    .dataframe thead th {\n",
              "        text-align: right;\n",
              "    }\n",
              "</style>\n",
              "<table border=\"1\" class=\"dataframe\">\n",
              "  <thead>\n",
              "    <tr style=\"text-align: right;\">\n",
              "      <th></th>\n",
              "      <th>Order ID</th>\n",
              "      <th>Product ID</th>\n",
              "      <th>Qty</th>\n",
              "    </tr>\n",
              "  </thead>\n",
              "  <tbody>\n",
              "    <tr>\n",
              "      <th>0</th>\n",
              "      <td>CA-2014-100090</td>\n",
              "      <td>FUR-TA-10003715</td>\n",
              "      <td>3</td>\n",
              "    </tr>\n",
              "    <tr>\n",
              "      <th>1</th>\n",
              "      <td>CA-2014-100090</td>\n",
              "      <td>OFF-BI-10001597</td>\n",
              "      <td>6</td>\n",
              "    </tr>\n",
              "    <tr>\n",
              "      <th>2</th>\n",
              "      <td>CA-2014-100293</td>\n",
              "      <td>OFF-PA-10000176</td>\n",
              "      <td>6</td>\n",
              "    </tr>\n",
              "    <tr>\n",
              "      <th>3</th>\n",
              "      <td>CA-2014-100328</td>\n",
              "      <td>OFF-BI-10000343</td>\n",
              "      <td>1</td>\n",
              "    </tr>\n",
              "    <tr>\n",
              "      <th>4</th>\n",
              "      <td>CA-2014-100363</td>\n",
              "      <td>OFF-FA-10000611</td>\n",
              "      <td>2</td>\n",
              "    </tr>\n",
              "  </tbody>\n",
              "</table>\n",
              "</div>"
            ],
            "text/plain": [
              "         Order ID       Product ID  Qty\n",
              "0  CA-2014-100090  FUR-TA-10003715    3\n",
              "1  CA-2014-100090  OFF-BI-10001597    6\n",
              "2  CA-2014-100293  OFF-PA-10000176    6\n",
              "3  CA-2014-100328  OFF-BI-10000343    1\n",
              "4  CA-2014-100363  OFF-FA-10000611    2"
            ]
          },
          "execution_count": 50,
          "metadata": {},
          "output_type": "execute_result"
        }
      ],
      "source": [
        "df2.head()  # Print few top records in dataset 2"
      ]
    },
    {
      "cell_type": "code",
      "execution_count": null,
      "id": "5f9f0fa9",
      "metadata": {
        "id": "5f9f0fa9",
        "outputId": "a18dd256-802c-491e-f502-2f7d5edd7fe0"
      },
      "outputs": [
        {
          "data": {
            "text/plain": [
              "0    CA-2014-100006TEC-PH-10002075\n",
              "1    CA-2014-100090FUR-TA-10003715\n",
              "2    CA-2014-100090OFF-BI-10001597\n",
              "3    CA-2014-100293OFF-PA-10000176\n",
              "4    CA-2014-100328OFF-BI-10000343\n",
              "Name: Unique_data1, dtype: object"
            ]
          },
          "execution_count": 41,
          "metadata": {},
          "output_type": "execute_result"
        }
      ],
      "source": [
        "df1['Unique_data1'] = df1['Order ID']+df1['Product ID']   \n",
        "df1['Unique_data1'].head()"
      ]
    },
    {
      "cell_type": "code",
      "execution_count": null,
      "id": "24e6d15c",
      "metadata": {
        "scrolled": true,
        "id": "24e6d15c",
        "outputId": "919d4b1e-6bca-42a2-f37b-9d4bd0d84646"
      },
      "outputs": [
        {
          "data": {
            "text/plain": [
              "0    CA-2014-100090FUR-TA-10003715\n",
              "1    CA-2014-100090OFF-BI-10001597\n",
              "2    CA-2014-100293OFF-PA-10000176\n",
              "3    CA-2014-100328OFF-BI-10000343\n",
              "4    CA-2014-100363OFF-FA-10000611\n",
              "Name: Unique_data2, dtype: object"
            ]
          },
          "execution_count": 40,
          "metadata": {},
          "output_type": "execute_result"
        }
      ],
      "source": [
        "df2['Unique_data2'] = df2['Order ID']+df2['Product ID']\n",
        "df2['Unique_data2'].head()\n"
      ]
    },
    {
      "cell_type": "code",
      "execution_count": null,
      "id": "c7d05617",
      "metadata": {
        "id": "c7d05617",
        "outputId": "42b15e42-3fd4-46fe-a12c-df65f1439ef8"
      },
      "outputs": [
        {
          "data": {
            "text/html": [
              "<div>\n",
              "<style scoped>\n",
              "    .dataframe tbody tr th:only-of-type {\n",
              "        vertical-align: middle;\n",
              "    }\n",
              "\n",
              "    .dataframe tbody tr th {\n",
              "        vertical-align: top;\n",
              "    }\n",
              "\n",
              "    .dataframe thead th {\n",
              "        text-align: right;\n",
              "    }\n",
              "</style>\n",
              "<table border=\"1\" class=\"dataframe\">\n",
              "  <thead>\n",
              "    <tr style=\"text-align: right;\">\n",
              "      <th></th>\n",
              "      <th>Order ID_x</th>\n",
              "      <th>Product ID_x</th>\n",
              "      <th>Qty_x</th>\n",
              "      <th>Data1_Unique_ID</th>\n",
              "      <th>Unique_data1</th>\n",
              "      <th>Order ID_y</th>\n",
              "      <th>Product ID_y</th>\n",
              "      <th>Qty_y</th>\n",
              "      <th>Data2_Unique_ID</th>\n",
              "      <th>Unique_data2</th>\n",
              "    </tr>\n",
              "  </thead>\n",
              "  <tbody>\n",
              "    <tr>\n",
              "      <th>0</th>\n",
              "      <td>CA-2014-100006</td>\n",
              "      <td>TEC-PH-10002075</td>\n",
              "      <td>3.0</td>\n",
              "      <td>CA-2014-100006TEC-PH-10002075</td>\n",
              "      <td>CA-2014-100006TEC-PH-10002075</td>\n",
              "      <td>NaN</td>\n",
              "      <td>NaN</td>\n",
              "      <td>NaN</td>\n",
              "      <td>NaN</td>\n",
              "      <td>NaN</td>\n",
              "    </tr>\n",
              "    <tr>\n",
              "      <th>1</th>\n",
              "      <td>CA-2014-100090</td>\n",
              "      <td>FUR-TA-10003715</td>\n",
              "      <td>3.0</td>\n",
              "      <td>CA-2014-100090FUR-TA-10003715</td>\n",
              "      <td>CA-2014-100090FUR-TA-10003715</td>\n",
              "      <td>CA-2014-100090</td>\n",
              "      <td>FUR-TA-10003715</td>\n",
              "      <td>3.0</td>\n",
              "      <td>CA-2014-100090FUR-TA-10003715</td>\n",
              "      <td>CA-2014-100090FUR-TA-10003715</td>\n",
              "    </tr>\n",
              "    <tr>\n",
              "      <th>2</th>\n",
              "      <td>CA-2014-100090</td>\n",
              "      <td>OFF-BI-10001597</td>\n",
              "      <td>6.0</td>\n",
              "      <td>CA-2014-100090OFF-BI-10001597</td>\n",
              "      <td>CA-2014-100090OFF-BI-10001597</td>\n",
              "      <td>CA-2014-100090</td>\n",
              "      <td>OFF-BI-10001597</td>\n",
              "      <td>6.0</td>\n",
              "      <td>CA-2014-100090OFF-BI-10001597</td>\n",
              "      <td>CA-2014-100090OFF-BI-10001597</td>\n",
              "    </tr>\n",
              "    <tr>\n",
              "      <th>3</th>\n",
              "      <td>CA-2014-100293</td>\n",
              "      <td>OFF-PA-10000176</td>\n",
              "      <td>6.0</td>\n",
              "      <td>CA-2014-100293OFF-PA-10000176</td>\n",
              "      <td>CA-2014-100293OFF-PA-10000176</td>\n",
              "      <td>CA-2014-100293</td>\n",
              "      <td>OFF-PA-10000176</td>\n",
              "      <td>6.0</td>\n",
              "      <td>CA-2014-100293OFF-PA-10000176</td>\n",
              "      <td>CA-2014-100293OFF-PA-10000176</td>\n",
              "    </tr>\n",
              "    <tr>\n",
              "      <th>4</th>\n",
              "      <td>CA-2014-100328</td>\n",
              "      <td>OFF-BI-10000343</td>\n",
              "      <td>1.0</td>\n",
              "      <td>CA-2014-100328OFF-BI-10000343</td>\n",
              "      <td>CA-2014-100328OFF-BI-10000343</td>\n",
              "      <td>CA-2014-100328</td>\n",
              "      <td>OFF-BI-10000343</td>\n",
              "      <td>1.0</td>\n",
              "      <td>CA-2014-100328OFF-BI-10000343</td>\n",
              "      <td>CA-2014-100328OFF-BI-10000343</td>\n",
              "    </tr>\n",
              "  </tbody>\n",
              "</table>\n",
              "</div>"
            ],
            "text/plain": [
              "       Order ID_x     Product ID_x  Qty_x                Data1_Unique_ID  \\\n",
              "0  CA-2014-100006  TEC-PH-10002075    3.0  CA-2014-100006TEC-PH-10002075   \n",
              "1  CA-2014-100090  FUR-TA-10003715    3.0  CA-2014-100090FUR-TA-10003715   \n",
              "2  CA-2014-100090  OFF-BI-10001597    6.0  CA-2014-100090OFF-BI-10001597   \n",
              "3  CA-2014-100293  OFF-PA-10000176    6.0  CA-2014-100293OFF-PA-10000176   \n",
              "4  CA-2014-100328  OFF-BI-10000343    1.0  CA-2014-100328OFF-BI-10000343   \n",
              "\n",
              "                    Unique_data1      Order ID_y     Product ID_y  Qty_y  \\\n",
              "0  CA-2014-100006TEC-PH-10002075             NaN              NaN    NaN   \n",
              "1  CA-2014-100090FUR-TA-10003715  CA-2014-100090  FUR-TA-10003715    3.0   \n",
              "2  CA-2014-100090OFF-BI-10001597  CA-2014-100090  OFF-BI-10001597    6.0   \n",
              "3  CA-2014-100293OFF-PA-10000176  CA-2014-100293  OFF-PA-10000176    6.0   \n",
              "4  CA-2014-100328OFF-BI-10000343  CA-2014-100328  OFF-BI-10000343    1.0   \n",
              "\n",
              "                 Data2_Unique_ID                   Unique_data2  \n",
              "0                            NaN                            NaN  \n",
              "1  CA-2014-100090FUR-TA-10003715  CA-2014-100090FUR-TA-10003715  \n",
              "2  CA-2014-100090OFF-BI-10001597  CA-2014-100090OFF-BI-10001597  \n",
              "3  CA-2014-100293OFF-PA-10000176  CA-2014-100293OFF-PA-10000176  \n",
              "4  CA-2014-100328OFF-BI-10000343  CA-2014-100328OFF-BI-10000343  "
            ]
          },
          "execution_count": 42,
          "metadata": {},
          "output_type": "execute_result"
        }
      ],
      "source": [
        "#Combining datasets\n",
        "merge_data = df1.merge(df2, how='outer', left_on=['Unique_data1'], right_on=['Unique_data2'])\n",
        "merge_data.head()"
      ]
    },
    {
      "cell_type": "markdown",
      "id": "8c572032",
      "metadata": {
        "id": "8c572032"
      },
      "source": [
        "# 1) How to identify the Records (Order ID + Product ID combination) present in data1 but missing in data2 (Specify the number of records missing in your answer)\n"
      ]
    },
    {
      "cell_type": "code",
      "execution_count": null,
      "id": "8fc0b05c",
      "metadata": {
        "id": "8fc0b05c",
        "outputId": "cf9fc88a-2a8b-4a62-dc15-56182176e7d4"
      },
      "outputs": [
        {
          "name": "stdout",
          "output_type": "stream",
          "text": [
            "507\n"
          ]
        }
      ],
      "source": [
        "#present in data1 but missing in data2 \n",
        "Question_1 = merge_data[merge_data['Unique_data2'].isna()]\n",
        "print(len(Question_1))\n"
      ]
    },
    {
      "cell_type": "markdown",
      "id": "980048e1",
      "metadata": {
        "id": "980048e1"
      },
      "source": [
        "# How to identify the Records (Order ID + Product ID combination) missing in data1 but present in data2 (Specify the number of records missing in your answer)\n"
      ]
    },
    {
      "cell_type": "code",
      "execution_count": null,
      "id": "335af8df",
      "metadata": {
        "id": "335af8df",
        "outputId": "e6acb108-7c94-4024-bf6c-c70ab8314434"
      },
      "outputs": [
        {
          "name": "stdout",
          "output_type": "stream",
          "text": [
            "508\n"
          ]
        }
      ],
      "source": [
        "# missing in data1 but present in data2\n",
        "Question_2 = merge_data[merge_data['Unique_data1'].isna()]   #\n",
        "print(len(Question_2))\n",
        "\n"
      ]
    },
    {
      "cell_type": "markdown",
      "id": "d911ad46",
      "metadata": {
        "id": "d911ad46"
      },
      "source": [
        "# Find the Sum of the total Qty of Records missing in data1 but present in data2\n"
      ]
    },
    {
      "cell_type": "code",
      "execution_count": null,
      "id": "c3016a80",
      "metadata": {
        "id": "c3016a80",
        "outputId": "165e49d3-78c4-4d61-8362-03601af694d4"
      },
      "outputs": [
        {
          "data": {
            "text/plain": [
              "1956.0"
            ]
          },
          "execution_count": 23,
          "metadata": {},
          "output_type": "execute_result"
        }
      ],
      "source": [
        "Question_2[\"Qty_y\"].sum()\n",
        "\n"
      ]
    },
    {
      "cell_type": "markdown",
      "id": "98b2cded",
      "metadata": {
        "id": "98b2cded"
      },
      "source": [
        "# Find the total number of unique records (Order ID + Product ID combination) present in the combined dataset of data1 and data2\n"
      ]
    },
    {
      "cell_type": "code",
      "execution_count": null,
      "id": "ba4a655a",
      "metadata": {
        "id": "ba4a655a",
        "outputId": "a5b32b71-149d-41e7-b746-fbbdb3185956"
      },
      "outputs": [
        {
          "data": {
            "text/plain": [
              "9986"
            ]
          },
          "execution_count": 45,
          "metadata": {},
          "output_type": "execute_result"
        }
      ],
      "source": [
        "merge_data.shape[0]\n"
      ]
    },
    {
      "cell_type": "code",
      "execution_count": null,
      "id": "843d56d3",
      "metadata": {
        "id": "843d56d3"
      },
      "outputs": [],
      "source": []
    }
  ],
  "metadata": {
    "kernelspec": {
      "display_name": "Python 3",
      "language": "python",
      "name": "python3"
    },
    "language_info": {
      "codemirror_mode": {
        "name": "ipython",
        "version": 3
      },
      "file_extension": ".py",
      "mimetype": "text/x-python",
      "name": "python",
      "nbconvert_exporter": "python",
      "pygments_lexer": "ipython3",
      "version": "3.8.8"
    },
    "colab": {
      "provenance": [],
      "include_colab_link": true
    }
  },
  "nbformat": 4,
  "nbformat_minor": 5
}